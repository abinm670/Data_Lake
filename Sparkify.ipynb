{
 "cells": [
  {
   "cell_type": "code",
   "execution_count": 1,
   "metadata": {},
   "outputs": [
    {
     "data": {
      "application/vnd.jupyter.widget-view+json": {
       "model_id": "4567eeca5ee142798361fe00c1eea2c7",
       "version_major": 2,
       "version_minor": 0
      },
      "text/plain": [
       "VBox()"
      ]
     },
     "metadata": {},
     "output_type": "display_data"
    },
    {
     "name": "stdout",
     "output_type": "stream",
     "text": [
      "Starting Spark application\n"
     ]
    },
    {
     "data": {
      "text/html": [
       "<table>\n",
       "<tr><th>ID</th><th>YARN Application ID</th><th>Kind</th><th>State</th><th>Spark UI</th><th>Driver log</th><th>Current session?</th></tr><tr><td>2</td><td>application_1607535397286_0003</td><td>pyspark</td><td>idle</td><td><a target=\"_blank\" href=\"http://ip-172-31-36-169.us-west-2.compute.internal:20888/proxy/application_1607535397286_0003/\">Link</a></td><td><a target=\"_blank\" href=\"http://ip-172-31-37-183.us-west-2.compute.internal:8042/node/containerlogs/container_1607535397286_0003_01_000001/livy\">Link</a></td><td>✔</td></tr></table>"
      ],
      "text/plain": [
       "<IPython.core.display.HTML object>"
      ]
     },
     "metadata": {},
     "output_type": "display_data"
    },
    {
     "data": {
      "application/vnd.jupyter.widget-view+json": {
       "model_id": "",
       "version_major": 2,
       "version_minor": 0
      },
      "text/plain": [
       "FloatProgress(value=0.0, bar_style='info', description='Progress:', layout=Layout(height='25px', width='50%'),…"
      ]
     },
     "metadata": {},
     "output_type": "display_data"
    },
    {
     "name": "stdout",
     "output_type": "stream",
     "text": [
      "SparkSession available as 'spark'.\n"
     ]
    },
    {
     "data": {
      "application/vnd.jupyter.widget-view+json": {
       "model_id": "",
       "version_major": 2,
       "version_minor": 0
      },
      "text/plain": [
       "FloatProgress(value=0.0, bar_style='info', description='Progress:', layout=Layout(height='25px', width='50%'),…"
      ]
     },
     "metadata": {},
     "output_type": "display_data"
    }
   ],
   "source": [
    "#Files store in s3\n",
    "input_data = \"s3://sprkify/data/\"\n",
    "output_data = \"s3://sprkify/output/\""
   ]
  },
  {
   "cell_type": "code",
   "execution_count": 2,
   "metadata": {},
   "outputs": [
    {
     "data": {
      "application/vnd.jupyter.widget-view+json": {
       "model_id": "46a9eef6cbf94d638390a32f7a16e616",
       "version_major": 2,
       "version_minor": 0
      },
      "text/plain": [
       "VBox()"
      ]
     },
     "metadata": {},
     "output_type": "display_data"
    },
    {
     "data": {
      "application/vnd.jupyter.widget-view+json": {
       "model_id": "",
       "version_major": 2,
       "version_minor": 0
      },
      "text/plain": [
       "FloatProgress(value=0.0, bar_style='info', description='Progress:', layout=Layout(height='25px', width='50%'),…"
      ]
     },
     "metadata": {},
     "output_type": "display_data"
    }
   ],
   "source": [
    "#packages\n",
    "import configparser\n",
    "from datetime import datetime\n",
    "import os, sys\n",
    "from pyspark.sql import SparkSession\n",
    "from pyspark.sql.functions import udf, col\n",
    "from pyspark.sql.functions import year, month, dayofmonth, hour, weekofyear, date_format\n",
    "from pyspark.sql.types import TimestampType\n",
    "from pyspark.sql.window import Window\n",
    "\n",
    "\n",
    "import pyspark.sql.functions as F"
   ]
  },
  {
   "cell_type": "code",
   "execution_count": 3,
   "metadata": {},
   "outputs": [
    {
     "data": {
      "application/vnd.jupyter.widget-view+json": {
       "model_id": "9144917a0736433890bc17e96e6a43eb",
       "version_major": 2,
       "version_minor": 0
      },
      "text/plain": [
       "VBox()"
      ]
     },
     "metadata": {},
     "output_type": "display_data"
    },
    {
     "data": {
      "application/vnd.jupyter.widget-view+json": {
       "model_id": "",
       "version_major": 2,
       "version_minor": 0
      },
      "text/plain": [
       "FloatProgress(value=0.0, bar_style='info', description='Progress:', layout=Layout(height='25px', width='50%'),…"
      ]
     },
     "metadata": {},
     "output_type": "display_data"
    }
   ],
   "source": [
    "   spark = SparkSession \\\n",
    "        .builder \\\n",
    "        .config(\"spark.jars.packages\", \"org.apache.hadoop:hadoop-aws:2.7.0\") \\\n",
    "        .getOrCreate()"
   ]
  },
  {
   "cell_type": "code",
   "execution_count": 4,
   "metadata": {},
   "outputs": [
    {
     "data": {
      "application/vnd.jupyter.widget-view+json": {
       "model_id": "80a328bcbfa341e2a708b59d43714a3c",
       "version_major": 2,
       "version_minor": 0
      },
      "text/plain": [
       "VBox()"
      ]
     },
     "metadata": {},
     "output_type": "display_data"
    },
    {
     "data": {
      "application/vnd.jupyter.widget-view+json": {
       "model_id": "",
       "version_major": 2,
       "version_minor": 0
      },
      "text/plain": [
       "FloatProgress(value=0.0, bar_style='info', description='Progress:', layout=Layout(height='25px', width='50%'),…"
      ]
     },
     "metadata": {},
     "output_type": "display_data"
    }
   ],
   "source": [
    "# Extarct data from s3 file from s3 bucket prkify/data/song_data \n",
    "# laod it in to Song, Artist Tables EL\n",
    "\n",
    "song_data = input_data + 'song_data/*/*/*/*.json'\n",
    "\n",
    "# read song data file\n",
    "df = spark.read.json(song_data)\n",
    "\n",
    "# extract columns to create songs table\n",
    "column = [\"song_id\", \"title\", \"artist_id\", \"year\", \"duration\"]\n",
    "songs_table = df.selectExpr(*column).dropDuplicates()\n",
    "# create a song table\n",
    "songs_table.createOrReplaceTempView('songs')\n",
    "\n",
    "# write songs table to parquet files partitioned by year and artist\n",
    "songs_table.write.mode('overwrite') \\\n",
    ".partitionBy(\"year\", \"artist_id\") \\\n",
    ".parquet(os.path.join(output_data + 'songs/'))\n",
    "\n",
    "# extract columns to create artists table\n",
    "column = ['artist_id', 'artist_name', 'artist_location', 'artist_latitude ',\n",
    "              'artist_longitude']\n",
    "artists_table = df.selectExpr(*column).dropDuplicates()\n",
    "\n",
    "# create artist table\n",
    "\n",
    "# write artists table to parquet files\n",
    "artists_table.write.mode('overwrite') \\\n",
    "        .parquet(os.path.join(output_data + 'artists/'))"
   ]
  },
  {
   "cell_type": "code",
   "execution_count": 5,
   "metadata": {},
   "outputs": [
    {
     "data": {
      "application/vnd.jupyter.widget-view+json": {
       "model_id": "c84b1af07582410090677d036be48e31",
       "version_major": 2,
       "version_minor": 0
      },
      "text/plain": [
       "VBox()"
      ]
     },
     "metadata": {},
     "output_type": "display_data"
    },
    {
     "data": {
      "application/vnd.jupyter.widget-view+json": {
       "model_id": "",
       "version_major": 2,
       "version_minor": 0
      },
      "text/plain": [
       "FloatProgress(value=0.0, bar_style='info', description='Progress:', layout=Layout(height='25px', width='50%'),…"
      ]
     },
     "metadata": {},
     "output_type": "display_data"
    }
   ],
   "source": [
    "# Extarct the log file from s3 bucket prkify/data/log-data \n",
    "#load the data into table and transform the data ELT\n",
    "\n",
    "# get filepath to log data file\n",
    "log_data = input_data + 'log-data/*.json'\n",
    "\n",
    "\n",
    "# read log data file\n",
    "df = spark.read.json(log_data)\n",
    "        \n",
    "\n",
    "# filter by actions for song plays\n",
    "df = df.filter(df.page == 'NextSong')\n",
    "  \n",
    "\n",
    "# # extract columns for users table\n",
    "column = ['artist', 'firstName', 'lastName', 'gender', 'level']\n",
    "artists_table = df.selectExpr(*column).dropDuplicates()\n",
    "\n",
    "# # write users table to parquet files\n",
    "artists_table.write.mode('overwrite') \\\n",
    "        .parquet(os.path.join(output_data + 'users_log/'))\n",
    "\n",
    "# create timestamp column from original timestamp column\n",
    "get_timestamp = udf(lambda x: (datetime.fromtimestamp(x / 1000.0)), TimestampType())\n",
    "df = df.withColumn('timestamp', get_timestamp(df.ts))\n",
    "\n",
    "# create datetime column from original timestamp column\n",
    "df = df.withColumn('datetime', df.timestamp)\n",
    "    \n",
    "\n",
    "# extract columns to create time table\n",
    "time_table =df.select('timestamp') \\\n",
    "        .withColumn('hour', hour('timestamp')) \\\n",
    "        .withColumn('day', dayofmonth('timestamp')) \\\n",
    "        .withColumn('week', weekofyear('timestamp')) \\\n",
    "        .withColumn('month', month('timestamp')) \\\n",
    "        .withColumn('year', year('timestamp'))\n",
    "\n",
    "    \n",
    "time_table.createOrReplaceTempView('time')\n",
    "# print(time_table.limit(2).toPandas())\n",
    "# sys.exit(\"stop hereeeeeeee\")\n",
    "\n",
    "    \n",
    "\n",
    "# write time table to parquet files partitioned by year and month\n",
    "time_table.write.mode('overwrite') \\\n",
    "        .partitionBy('year', 'month') \\\n",
    "        .parquet(os.path.join(output_data + 'time/'))\n",
    "    \n",
    "\n",
    "# read in song data to use for songplays table\n",
    "song_df = spark.read.json(input_data + 'song_data/*/*/*/*.json')\n",
    "\n",
    "#extract columns from joined song and log datasets to create songplays table\n",
    "songplays_table = df.join(song_df, song_df.artist_name == df.artist , how='left') \\\n",
    "         .join(time_table, on=['timestamp'], how='inner') \\\n",
    "         .withColumn('songplays_id', F.row_number().over(Window.orderBy(F.monotonically_increasing_id()))) \\\n",
    "         .select('songplays_id', 'userId', 'timestamp', 'level', 'song_id', 'artist_id', 'sessionId', 'location', 'userAgent', time_table.year ,'month').dropDuplicates()\n",
    "    \n",
    "#print(songplays_table.limit(2).toPandas())\n",
    "#sys.exit(\"stop hereeeeeeee\")\n",
    "\n",
    "#write songplays table to parquet files partitioned by year and month\n",
    "songplays_table.write.mode('overwrite') \\\n",
    "    .partitionBy('year','month') \\\n",
    "    .parquet(os.path.join(output_data + 'songplays/'))"
   ]
  },
  {
   "cell_type": "code",
   "execution_count": null,
   "metadata": {},
   "outputs": [],
   "source": []
  }
 ],
 "metadata": {
  "kernelspec": {
   "display_name": "PySpark",
   "language": "",
   "name": "pysparkkernel"
  },
  "language_info": {
   "codemirror_mode": {
    "name": "python",
    "version": 2
   },
   "mimetype": "text/x-python",
   "name": "pyspark",
   "pygments_lexer": "python2"
  }
 },
 "nbformat": 4,
 "nbformat_minor": 4
}
